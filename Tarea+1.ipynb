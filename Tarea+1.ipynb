{
 "cells": [
  {
   "cell_type": "markdown",
   "metadata": {},
   "source": [
    "# TAREA 1\n",
    "EL SIGUIENTE CODIGO CONVIERTE UN NUMERO DECIMAL A BINARIO UTILIZANDO LA REPRESENTACION POR 32 BITS DEL ESTANDAR IEEE754"
   ]
  },
  {
   "cell_type": "code",
   "execution_count": null,
   "metadata": {},
   "outputs": [],
   "source": [
    "decimal = float(input(\"INGRESE UN NUMERO DECIMAL: \")) \n",
    "\n",
    "entero = int(decimal)\n",
    "pdecimal = decimal - entero\n",
    "\n",
    "if entero >= 0 :\n",
    "    print(\"EL NUMERO BINARIO EN FORMATO IEEE 754 (32 BIT) ES: \")\n",
    "    v =''\n",
    "    while entero >= 1 :\n",
    "        mod = entero % 2\n",
    "        v= str(mod) + v\n",
    "        entero = int(entero/2)   \n",
    "    co=0\n",
    "    z=0\n",
    "    y=''\n",
    "    while co<=22:\n",
    "        x = pdecimal * 2\n",
    "        z = int(x)\n",
    "        y = y + str(z) \n",
    "        pdecimal = x - z\n",
    "        co=co+1\n",
    "if entero < 0 :\n",
    "    print(\"EL NUMERO BINARIO EN FORMATO IEEE 754 (32 BIT) ES: \")\n",
    "    pos=entero * -1\n",
    "    v =''\n",
    "    while pos >= 1:\n",
    "        modul = pos % 2\n",
    "        v = str(modul) + v\n",
    "        pos = int(pos/2)\n",
    "    decpos = (decimal* - 1) + int(decimal) \n",
    "    co=0\n",
    "    z=0\n",
    "    y=''\n",
    "    while co<=22:\n",
    "            x = decpos * 2\n",
    "            z = int(x)\n",
    "            y = y + str(z)\n",
    "            decpos = x - z\n",
    "            co=co+1\n",
    "contdig= len(v)\n",
    "h=(contdig-1)+127\n",
    "exponente =''\n",
    "if h== 127:\n",
    "    exponente='01111111'\n",
    "while h > 127 :\n",
    "    mo = h % 2\n",
    "    exponente= str(mo) + exponente\n",
    "    h = int(h/2)    \n",
    "g = v[1:contdig]+y\n",
    "mantisa = g[0:23]\n",
    "\n",
    "if decimal > 0 :\n",
    "    print('0'+exponente+mantisa)\n",
    "if decimal < 0 :\n",
    "    print('1'+exponente+mantisa)  "
   ]
  },
  {
   "cell_type": "code",
   "execution_count": null,
   "metadata": {
    "collapsed": true
   },
   "outputs": [],
   "source": []
  }
 ],
 "metadata": {
  "kernelspec": {
   "display_name": "Python 3",
   "language": "python",
   "name": "python3"
  },
  "language_info": {
   "codemirror_mode": {
    "name": "ipython",
    "version": 3
   },
   "file_extension": ".py",
   "mimetype": "text/x-python",
   "name": "python",
   "nbconvert_exporter": "python",
   "pygments_lexer": "ipython3",
   "version": "3.6.3"
  }
 },
 "nbformat": 4,
 "nbformat_minor": 2
}
