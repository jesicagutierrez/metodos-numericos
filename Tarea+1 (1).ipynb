{
 "cells": [
  {
   "cell_type": "markdown",
   "metadata": {},
   "source": [
    "# TAREA 1\n",
    "EL SIGUIENTE CODIGO CONVIERTE UN NUMERO DECIMAL A BINARIO UTILIZANDO LA REPRESENTACION POR 32 BITS DEL ESTANDAR IEEE754"
   ]
  },
  {
   "cell_type": "code",
   "execution_count": 2,
   "metadata": {},
   "outputs": [
    {
     "name": "stdout",
     "output_type": "stream",
     "text": [
      "INGRESE UN NUMERO DECIMAL: -118.625\n",
      "EL NUMERO BINARIO EN FORMATO IEEE 754 (32 BIT) ES: \n",
      "11000010111011010100000000000000\n"
     ]
    }
   ],
   "source": [
    "decimal = float(input(\"INGRESE UN NUMERO DECIMAL: \")) \n",
    "\n",
    "entero = int(decimal)\n",
    "pdecimal = decimal - entero\n",
    "\n",
    "if entero >= 0 :\n",
    "    print(\"EL NUMERO BINARIO EN FORMATO IEEE 754 (32 BIT) ES: \")\n",
    "    v =''\n",
    "    while entero >= 1 :\n",
    "        mod = entero % 2\n",
    "        v= str(mod) + v\n",
    "        entero = int(entero/2)\n",
    "    print(v)\n",
    "    co=0\n",
    "    z=0\n",
    "    y=''\n",
    "    while co<=22:\n",
    "        x = pdecimal * 2\n",
    "        z = int(x)\n",
    "        y = y + str(z) \n",
    "        pdecimal = x - z\n",
    "        co=co+1\n",
    "if entero < 0 :\n",
    "    print(\"EL NUMERO BINARIO EN FORMATO IEEE 754 (32 BIT) ES: \")\n",
    "    pos=entero * -1\n",
    "    v =''\n",
    "    while pos >= 1:\n",
    "        modul = pos % 2\n",
    "        v = str(modul) + v\n",
    "        pos = int(pos/2)\n",
    "    decpos = (decimal* - 1) + int(decimal) \n",
    "    co=0\n",
    "    z=0\n",
    "    y=''\n",
    "    while co<=22:\n",
    "            x = decpos * 2\n",
    "            z = int(x)\n",
    "            y = y + str(z)\n",
    "            decpos = x - z\n",
    "            co=co+1\n",
    "c= len(v)\n",
    "h=(c-1)+127\n",
    "if h== 127:\n",
    "    a='01111111'\n",
    "a =''\n",
    "while h >= 1 :\n",
    "    mo = h % 2\n",
    "    a= str(mo) + a\n",
    "    h = int(h/2)       \n",
    "g = v[1:c]+y\n",
    "j = g[0:23]\n",
    "\n",
    "if decimal > 0 :\n",
    "    print('0'+a+j)\n",
    "if decimal < 0 :\n",
    "    print('1'+a+j)  "
   ]
  },
  {
   "cell_type": "code",
   "execution_count": null,
   "metadata": {
    "collapsed": true
   },
   "outputs": [],
   "source": []
  }
 ],
 "metadata": {
  "kernelspec": {
   "display_name": "Python 3",
   "language": "python",
   "name": "python3"
  },
  "language_info": {
   "codemirror_mode": {
    "name": "ipython",
    "version": 3
   },
   "file_extension": ".py",
   "mimetype": "text/x-python",
   "name": "python",
   "nbconvert_exporter": "python",
   "pygments_lexer": "ipython3",
   "version": "3.6.3"
  }
 },
 "nbformat": 4,
 "nbformat_minor": 2
}
