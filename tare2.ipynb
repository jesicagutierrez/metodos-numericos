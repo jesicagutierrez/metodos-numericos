{
 "cells": [
  {
   "cell_type": "markdown",
   "metadata": {},
   "source": [
    "# SERIES DE TAYLOR\n",
    "Juan celeita - Jessica Gutierrez 161003508-161003518. Adjuntamos dos codigos, ambos cumplen la misma funcion pero los trabajamos de forma diferente cada uno.\n",
    "\n",
    "Completar la tabla para la función $cos(x)$, alrededor del punto $a = 0$, utilizando el número indicado de términos en la aproximación."
   ]
  },
  {
   "cell_type": "code",
   "execution_count": 2,
   "metadata": {},
   "outputs": [
    {
     "name": "stdout",
     "output_type": "stream",
     "text": [
      "INGRESE EL ANGULO DE COS(X): 0.001\n",
      "INGRESE LA APROXIMACION DESEADA: 4\n",
      "exacto:  0.9999995000000417\n",
      "0.9999995\n"
     ]
    }
   ],
   "source": [
    "from math import factorial\n",
    "from math import cos\n",
    "import matplotlib.pyplot as plt\n",
    "import numpy as np\n",
    "\n",
    "X = float(input(\"INGRESE EL ANGULO DE COS(X): \")) \n",
    "aprox=int(input(\"INGRESE LA APROXIMACION DESEADA: \"))\n",
    "\n",
    "e = cos(X)\n",
    "print(\"exacto: \",e)\n",
    "\n",
    "if aprox <= 2:\n",
    "    c0 = 1  \n",
    "    c1 = 0  \n",
    "    P1 = c0 + c1*X\n",
    "    print(P1)\n",
    "if aprox ==3:\n",
    "    aprox=aprox+1    \n",
    "if aprox ==4:\n",
    "    c0 = 1  \n",
    "    c1 = 0\n",
    "    c2 = -0.5\n",
    "    P2 = c0 + c1*X + c2*(X**2)\n",
    "    print(P2)\n",
    "if aprox == 5:\n",
    "    c0 = 1  \n",
    "    c1 = 0\n",
    "    c2 = -0.5\n",
    "    c3 = 1/factorial(4)\n",
    "    P3 = c0 + c1*X + c2*(X**2)+c3*(X**4)\n",
    "    print(P3)\n",
    "\n",
    "    "
   ]
  }
 ],
 "metadata": {
  "kernelspec": {
   "display_name": "Python 3",
   "language": "python",
   "name": "python3"
  },
  "language_info": {
   "codemirror_mode": {
    "name": "ipython",
    "version": 3
   },
   "file_extension": ".py",
   "mimetype": "text/x-python",
   "name": "python",
   "nbconvert_exporter": "python",
   "pygments_lexer": "ipython3",
   "version": "3.6.3"
  }
 },
 "nbformat": 4,
 "nbformat_minor": 2
}
